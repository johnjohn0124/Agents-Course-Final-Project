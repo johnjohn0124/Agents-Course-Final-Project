{
 "cells": [
  {
   "cell_type": "markdown",
   "id": "ce6ba373-e982-4649-a802-3aad9e60ae7c",
   "metadata": {},
   "source": [
    "## Purpose\n",
    "\n",
    "To train a LM with standard PPO on a given task.\n",
    "\n",
    "To keep things even, sparse zero-one rewards will be used as signal.\n",
    "\n",
    "For now, the purpose is actually to train on an offline dataset in order to test reward variance / robustness."
   ]
  },
  {
   "cell_type": "code",
   "execution_count": 1,
   "id": "30c80ee0-3131-41a9-a4a8-832a746206a5",
   "metadata": {},
   "outputs": [],
   "source": [
    "import os\n",
    "os.environ['CUDA_VISIBLE_DEVICES'] = '1'"
   ]
  },
  {
   "cell_type": "code",
   "execution_count": 2,
   "id": "abe8f657-02e4-4600-9a1d-4c833027b1d5",
   "metadata": {},
   "outputs": [
    {
     "name": "stderr",
     "output_type": "stream",
     "text": [
      "/home/seobrien/miniconda3/envs/agents/lib/python3.13/site-packages/tqdm/auto.py:21: TqdmWarning: IProgress not found. Please update jupyter and ipywidgets. See https://ipywidgets.readthedocs.io/en/stable/user_install.html\n",
      "  from .autonotebook import tqdm as notebook_tqdm\n"
     ]
    }
   ],
   "source": [
    "from trl import PPOTrainer, PPOConfig"
   ]
  },
  {
   "cell_type": "code",
   "execution_count": null,
   "id": "78f927f0-5646-4769-9e55-0cd88dcd56bc",
   "metadata": {},
   "outputs": [],
   "source": [
    "SEED = 42"
   ]
  },
  {
   "cell_type": "code",
   "execution_count": 3,
   "id": "7f56deae-4d6c-4a41-bfef-0855631725d5",
   "metadata": {},
   "outputs": [
    {
     "ename": "_IncompleteInputError",
     "evalue": "incomplete input (2901993718.py, line 1)",
     "output_type": "error",
     "traceback": [
      "  \u001b[36mCell\u001b[39m\u001b[36m \u001b[39m\u001b[32mIn[3]\u001b[39m\u001b[32m, line 1\u001b[39m\n\u001b[31m    \u001b[39m\u001b[31mconfig = PPOConfig(\u001b[39m\n                       ^\n\u001b[31m_IncompleteInputError\u001b[39m\u001b[31m:\u001b[39m incomplete input\n"
     ]
    }
   ],
   "source": [
    "config = PPOConfig(\n",
    "    output_dir='ppo-outputs',\n",
    "    num_ppo_epochs=1.0,\n",
    "    seed=SEED,\n",
    ")"
   ]
  },
  {
   "cell_type": "code",
   "execution_count": null,
   "id": "1e3c31f4-b7ff-4664-b2c6-2eb3184c951c",
   "metadata": {},
   "outputs": [],
   "source": []
  }
 ],
 "metadata": {
  "kernelspec": {
   "display_name": "Python 3 (ipykernel)",
   "language": "python",
   "name": "python3"
  },
  "language_info": {
   "codemirror_mode": {
    "name": "ipython",
    "version": 3
   },
   "file_extension": ".py",
   "mimetype": "text/x-python",
   "name": "python",
   "nbconvert_exporter": "python",
   "pygments_lexer": "ipython3",
   "version": "3.13.2"
  }
 },
 "nbformat": 4,
 "nbformat_minor": 5
}
