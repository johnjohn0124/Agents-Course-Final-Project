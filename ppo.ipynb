{
 "cells": [
  {
   "cell_type": "markdown",
   "id": "ce6ba373-e982-4649-a802-3aad9e60ae7c",
   "metadata": {},
   "source": [
    "## Purpose\n",
    "\n",
    "To train a LM with standard PPO on a given task.\n",
    "\n",
    "To keep things even, sparse zero-one rewards will be used as signal."
   ]
  },
  {
   "cell_type": "code",
   "execution_count": null,
   "id": "30c80ee0-3131-41a9-a4a8-832a746206a5",
   "metadata": {},
   "outputs": [],
   "source": []
  },
  {
   "cell_type": "code",
   "execution_count": null,
   "id": "abe8f657-02e4-4600-9a1d-4c833027b1d5",
   "metadata": {},
   "outputs": [],
   "source": []
  }
 ],
 "metadata": {
  "kernelspec": {
   "display_name": "Python 3 (ipykernel)",
   "language": "python",
   "name": "python3"
  },
  "language_info": {
   "codemirror_mode": {
    "name": "ipython",
    "version": 3
   },
   "file_extension": ".py",
   "mimetype": "text/x-python",
   "name": "python",
   "nbconvert_exporter": "python",
   "pygments_lexer": "ipython3",
   "version": "3.13.2"
  }
 },
 "nbformat": 4,
 "nbformat_minor": 5
}
